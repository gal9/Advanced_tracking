{
 "cells": [
  {
   "cell_type": "code",
   "execution_count": null,
   "metadata": {},
   "outputs": [],
   "source": [
    "import numpy as np\n",
    "import math\n",
    "import matplotlib.pyplot as plt\n",
    "\n",
    "from src.motion_model import get_system_matrices, kalman_filter"
   ]
  },
  {
   "cell_type": "code",
   "execution_count": null,
   "metadata": {},
   "outputs": [],
   "source": [
    "#get_system_matrices(\"random_walk\", 1, 1)"
   ]
  },
  {
   "cell_type": "code",
   "execution_count": null,
   "metadata": {},
   "outputs": [],
   "source": [
    "#get_system_matrices(\"nearly_constant_velocity\", 1, 1)"
   ]
  },
  {
   "cell_type": "code",
   "execution_count": null,
   "metadata": {},
   "outputs": [],
   "source": [
    "#get_system_matrices(\"nearly_constant_acceleration\", 1, 1)"
   ]
  },
  {
   "cell_type": "code",
   "execution_count": null,
   "metadata": {},
   "outputs": [],
   "source": [
    "N = 40\n",
    "v = np.linspace(5 * math.pi, 0, N)\n",
    "x = np.cos(v) * v\n",
    "y = np.sin(v) * v"
   ]
  },
  {
   "cell_type": "code",
   "execution_count": null,
   "metadata": {},
   "outputs": [],
   "source": [
    "sx, sy = kalman_filter(x, y, \"random_walk\", q=1, r=100)\n",
    "plt.plot(x, y, color=\"red\", label=\"observed\")\n",
    "plt.plot(sx, sy, color=\"blue\", label=\"modeled\")\n",
    "plt.legend()\n",
    "plt.show()"
   ]
  },
  {
   "cell_type": "code",
   "execution_count": null,
   "metadata": {},
   "outputs": [],
   "source": [
    "sx, sy = kalman_filter(x, y, \"nearly_constant_velocity\", q=1, r=100)\n",
    "plt.plot(x, y, color=\"red\", label=\"observed\")\n",
    "plt.plot(sx, sy, color=\"blue\", label=\"modeled\")\n",
    "plt.legend()\n",
    "plt.show()"
   ]
  },
  {
   "cell_type": "code",
   "execution_count": null,
   "metadata": {},
   "outputs": [],
   "source": [
    "\n",
    "fig, ((ax_11, ax_12, ax_13), (ax_21, ax_22, ax_23), (ax_31, ax_32, ax_33),\n",
    "      (ax_41, ax_42, ax_43), (ax_51, ax_52, ax_53)) = plt.subplots(5, 3)\n",
    "sx_rw_1, sy_rw_1 = kalman_filter(x, y, \"random_walk\", q=100, r=1)\n",
    "sx_rw_2, sy_rw_2 = kalman_filter(x, y, \"random_walk\", q=5, r=1)\n",
    "sx_rw_3, sy_rw_3 = kalman_filter(x, y, \"random_walk\", q=1, r=1)\n",
    "sx_rw_4, sy_rw_4 = kalman_filter(x, y, \"random_walk\", q=1, r=5)\n",
    "sx_rw_5, sy_rw_5 = kalman_filter(x, y, \"random_walk\", q=1, r=100)\n",
    "\n",
    "sx_ncv_1, sy_ncv_1 = kalman_filter(x, y, \"nearly_constant_velocity\", q=100, r=1)\n",
    "sx_ncv_2, sy_ncv_2 = kalman_filter(x, y, \"nearly_constant_velocity\", q=5, r=1)\n",
    "sx_ncv_3, sy_ncv_3 = kalman_filter(x, y, \"nearly_constant_velocity\", q=1, r=1)\n",
    "sx_ncv_4, sy_ncv_4 = kalman_filter(x, y, \"nearly_constant_velocity\", q=1, r=5)\n",
    "sx_ncv_5, sy_ncv_5 = kalman_filter(x, y, \"nearly_constant_velocity\", q=1, r=100)\n",
    "\n",
    "sx_nca_1, sy_nca_1 = kalman_filter(x, y, \"nearly_constant_acceleration\", q=100, r=1)\n",
    "sx_nca_2, sy_nca_2 = kalman_filter(x, y, \"nearly_constant_acceleration\", q=5, r=1)\n",
    "sx_nca_3, sy_nca_3 = kalman_filter(x, y, \"nearly_constant_acceleration\", q=1, r=1)\n",
    "sx_nca_4, sy_nca_4 = kalman_filter(x, y, \"nearly_constant_acceleration\", q=1, r=5)\n",
    "sx_nca_5, sy_nca_5 = kalman_filter(x, y, \"nearly_constant_acceleration\", q=1, r=100)\n",
    "\n",
    "ax_11.plot(x, y, color=\"red\")\n",
    "ax_11.plot(sx_rw_1, sy_rw_1, color=\"blue\")\n",
    "\n",
    "ax_12.plot(x, y, color=\"red\")\n",
    "ax_12.plot(sx_ncv_1, sy_ncv_1, color=\"blue\")\n",
    "\n",
    "ax_13.plot(x, y, color=\"red\")\n",
    "ax_13.plot(sx_nca_1, sy_nca_1, color=\"blue\")\n",
    "\n",
    "\n",
    "ax_21.plot(x, y, color=\"red\")\n",
    "ax_21.plot(sx_rw_2, sy_rw_2, color=\"blue\")\n",
    "\n",
    "ax_22.plot(x, y, color=\"red\")\n",
    "ax_22.plot(sx_ncv_2, sy_ncv_2, color=\"blue\")\n",
    "\n",
    "ax_23.plot(x, y, color=\"red\")\n",
    "ax_23.plot(sx_nca_2, sy_nca_2, color=\"blue\")\n",
    "\n",
    "\n",
    "ax_31.plot(x, y, color=\"red\")\n",
    "ax_31.plot(sx_rw_3, sy_rw_3, color=\"blue\")\n",
    "\n",
    "ax_32.plot(x, y, color=\"red\")\n",
    "ax_32.plot(sx_ncv_3, sy_ncv_3, color=\"blue\")\n",
    "\n",
    "ax_33.plot(x, y, color=\"red\")\n",
    "ax_33.plot(sx_nca_3, sy_nca_3, color=\"blue\")\n",
    "\n",
    "\n",
    "ax_41.plot(x, y, color=\"red\")\n",
    "ax_41.plot(sx_rw_4, sy_rw_4, color=\"blue\")\n",
    "\n",
    "ax_42.plot(x, y, color=\"red\")\n",
    "ax_42.plot(sx_ncv_4, sy_ncv_4, color=\"blue\")\n",
    "\n",
    "ax_43.plot(x, y, color=\"red\")\n",
    "ax_43.plot(sx_nca_4, sy_nca_4, color=\"blue\")\n",
    "\n",
    "\n",
    "ax_51.plot(x, y, color=\"red\")\n",
    "ax_51.plot(sx_rw_5, sy_rw_5, color=\"blue\")\n",
    "\n",
    "ax_52.plot(x, y, color=\"red\")\n",
    "ax_52.plot(sx_ncv_5, sy_ncv_5, color=\"blue\")\n",
    "\n",
    "ax_53.plot(x, y, color=\"red\")\n",
    "ax_53.plot(sx_nca_5, sy_nca_5, color=\"blue\")\n"
   ]
  },
  {
   "cell_type": "code",
   "execution_count": null,
   "metadata": {},
   "outputs": [],
   "source": [
    "N = 40\n",
    "x = np.linspace(0, 1, N)\n",
    "y = np.zeros(N)\n",
    "y[::2] = 1\n",
    "\n"
   ]
  },
  {
   "cell_type": "code",
   "execution_count": null,
   "metadata": {},
   "outputs": [],
   "source": [
    "N = 30\n",
    "x = np.linspace(0, 3, N)\n",
    "y = np.zeros(N)\n",
    "y[10:20] = 1\n"
   ]
  }
 ],
 "metadata": {
  "kernelspec": {
   "display_name": "vision",
   "language": "python",
   "name": "python3"
  },
  "language_info": {
   "codemirror_mode": {
    "name": "ipython",
    "version": 3
   },
   "file_extension": ".py",
   "mimetype": "text/x-python",
   "name": "python",
   "nbconvert_exporter": "python",
   "pygments_lexer": "ipython3",
   "version": "3.10.7+"
  },
  "orig_nbformat": 4
 },
 "nbformat": 4,
 "nbformat_minor": 2
}
